{
 "cells": [
  {
   "cell_type": "code",
   "execution_count": 3,
   "id": "fd58dac6-d017-4093-8cab-63ad67a49743",
   "metadata": {},
   "outputs": [],
   "source": [
    "import pandas as pd\n",
    "import numpy as np"
   ]
  },
  {
   "cell_type": "code",
   "execution_count": 13,
   "id": "50753f6d-69cd-42e4-a9b8-ec445108359e",
   "metadata": {},
   "outputs": [],
   "source": [
    "file_path = r\"C:\\Users\\utkar\\LFB Lithium and Electric Vehicle fire data.xlsx\""
   ]
  },
  {
   "cell_type": "code",
   "execution_count": 17,
   "id": "3bfea0b4-c0c3-410a-866f-2468db1ab323",
   "metadata": {},
   "outputs": [],
   "source": [
    "df = pd.read_excel(file_path)"
   ]
  },
  {
   "cell_type": "code",
   "execution_count": 19,
   "id": "b929977c-733d-42e6-aab7-cf8e1efbc5ca",
   "metadata": {},
   "outputs": [
    {
     "data": {
      "text/html": [
       "<div>\n",
       "<style scoped>\n",
       "    .dataframe tbody tr th:only-of-type {\n",
       "        vertical-align: middle;\n",
       "    }\n",
       "\n",
       "    .dataframe tbody tr th {\n",
       "        vertical-align: top;\n",
       "    }\n",
       "\n",
       "    .dataframe thead th {\n",
       "        text-align: right;\n",
       "    }\n",
       "</style>\n",
       "<table border=\"1\" class=\"dataframe\">\n",
       "  <thead>\n",
       "    <tr style=\"text-align: right;\">\n",
       "      <th></th>\n",
       "      <th>IncidentNumber</th>\n",
       "      <th>CalendarYear</th>\n",
       "      <th>MonthText</th>\n",
       "      <th>Type</th>\n",
       "      <th>IgnitionSourcePower</th>\n",
       "      <th>IgnitionSource</th>\n",
       "      <th>ItemFirstIgnited</th>\n",
       "      <th>VehiclePowerType</th>\n",
       "      <th>VehicleManufacturer</th>\n",
       "      <th>IncGeo_BoroughName</th>\n",
       "      <th>IncGeo_WardName</th>\n",
       "      <th>IncGeo_WardCode</th>\n",
       "      <th>Lithium batteries mentioned in report?</th>\n",
       "    </tr>\n",
       "  </thead>\n",
       "  <tbody>\n",
       "    <tr>\n",
       "      <th>0</th>\n",
       "      <td>000285-01012017</td>\n",
       "      <td>2017</td>\n",
       "      <td>Jan</td>\n",
       "      <td>Other Lithium Battery</td>\n",
       "      <td>Electricity</td>\n",
       "      <td>Other appliance or equipment</td>\n",
       "      <td>Other item</td>\n",
       "      <td>NaN</td>\n",
       "      <td>NaN</td>\n",
       "      <td>BARKING AND DAGENHAM</td>\n",
       "      <td>Thames View</td>\n",
       "      <td>E05014068</td>\n",
       "      <td>Yes</td>\n",
       "    </tr>\n",
       "    <tr>\n",
       "      <th>1</th>\n",
       "      <td>000641-02012017</td>\n",
       "      <td>2017</td>\n",
       "      <td>Jan</td>\n",
       "      <td>Other Lithium Battery</td>\n",
       "      <td>Unknown</td>\n",
       "      <td>Not known</td>\n",
       "      <td>Plastic - raw material only</td>\n",
       "      <td>NaN</td>\n",
       "      <td>NaN</td>\n",
       "      <td>HOUNSLOW</td>\n",
       "      <td>Osterley &amp; Spring Grove</td>\n",
       "      <td>E05013626</td>\n",
       "      <td>Yes</td>\n",
       "    </tr>\n",
       "    <tr>\n",
       "      <th>2</th>\n",
       "      <td>005511-13012017</td>\n",
       "      <td>2017</td>\n",
       "      <td>Jan</td>\n",
       "      <td>Car</td>\n",
       "      <td>Electricity</td>\n",
       "      <td>Batteries, generators</td>\n",
       "      <td>Rubber - raw material only</td>\n",
       "      <td>NaN</td>\n",
       "      <td>Mercedes</td>\n",
       "      <td>NEWHAM</td>\n",
       "      <td>Plaistow West &amp; Canning Town East</td>\n",
       "      <td>E05013920</td>\n",
       "      <td>No</td>\n",
       "    </tr>\n",
       "    <tr>\n",
       "      <th>3</th>\n",
       "      <td>006064-15012017</td>\n",
       "      <td>2017</td>\n",
       "      <td>Jan</td>\n",
       "      <td>Car</td>\n",
       "      <td>Electricity</td>\n",
       "      <td>Batteries, generators</td>\n",
       "      <td>Plastic - raw material only</td>\n",
       "      <td>NaN</td>\n",
       "      <td>Mercedes</td>\n",
       "      <td>HAMMERSMITH AND FULHAM</td>\n",
       "      <td>Ravenscourt</td>\n",
       "      <td>E05013746</td>\n",
       "      <td>No</td>\n",
       "    </tr>\n",
       "    <tr>\n",
       "      <th>4</th>\n",
       "      <td>007635-18012017</td>\n",
       "      <td>2017</td>\n",
       "      <td>Jan</td>\n",
       "      <td>e-scooter</td>\n",
       "      <td>Electricity</td>\n",
       "      <td>Batteries, generators</td>\n",
       "      <td>Wiring insulation</td>\n",
       "      <td>NaN</td>\n",
       "      <td>NaN</td>\n",
       "      <td>ISLINGTON</td>\n",
       "      <td>Mildmay</td>\n",
       "      <td>E05013709</td>\n",
       "      <td>No</td>\n",
       "    </tr>\n",
       "  </tbody>\n",
       "</table>\n",
       "</div>"
      ],
      "text/plain": [
       "    IncidentNumber  CalendarYear MonthText                   Type  \\\n",
       "0  000285-01012017          2017       Jan  Other Lithium Battery   \n",
       "1  000641-02012017          2017       Jan  Other Lithium Battery   \n",
       "2  005511-13012017          2017       Jan                   Car    \n",
       "3  006064-15012017          2017       Jan                   Car    \n",
       "4  007635-18012017          2017       Jan              e-scooter   \n",
       "\n",
       "  IgnitionSourcePower                IgnitionSource  \\\n",
       "0         Electricity  Other appliance or equipment   \n",
       "1             Unknown                     Not known   \n",
       "2         Electricity         Batteries, generators   \n",
       "3         Electricity         Batteries, generators   \n",
       "4         Electricity         Batteries, generators   \n",
       "\n",
       "              ItemFirstIgnited VehiclePowerType VehicleManufacturer  \\\n",
       "0                   Other item              NaN                 NaN   \n",
       "1  Plastic - raw material only              NaN                 NaN   \n",
       "2   Rubber - raw material only              NaN            Mercedes   \n",
       "3  Plastic - raw material only              NaN            Mercedes   \n",
       "4            Wiring insulation              NaN                 NaN   \n",
       "\n",
       "       IncGeo_BoroughName                    IncGeo_WardName IncGeo_WardCode  \\\n",
       "0    BARKING AND DAGENHAM                        Thames View       E05014068   \n",
       "1                HOUNSLOW            Osterley & Spring Grove       E05013626   \n",
       "2                  NEWHAM  Plaistow West & Canning Town East       E05013920   \n",
       "3  HAMMERSMITH AND FULHAM                        Ravenscourt       E05013746   \n",
       "4               ISLINGTON                            Mildmay       E05013709   \n",
       "\n",
       "  Lithium batteries mentioned in report?  \n",
       "0                                    Yes  \n",
       "1                                    Yes  \n",
       "2                                     No  \n",
       "3                                     No  \n",
       "4                                     No  "
      ]
     },
     "execution_count": 19,
     "metadata": {},
     "output_type": "execute_result"
    }
   ],
   "source": [
    "df.head()"
   ]
  },
  {
   "cell_type": "code",
   "execution_count": 21,
   "id": "b981081e-c2de-4824-ac14-6dab4427fe53",
   "metadata": {},
   "outputs": [
    {
     "data": {
      "text/plain": [
       "IncidentNumber                               0\n",
       "CalendarYear                                 0\n",
       "MonthText                                    0\n",
       "Type                                         0\n",
       "IgnitionSourcePower                         12\n",
       "IgnitionSource                              12\n",
       "ItemFirstIgnited                            44\n",
       "VehiclePowerType                          1047\n",
       "VehicleManufacturer                        849\n",
       "IncGeo_BoroughName                           0\n",
       "IncGeo_WardName                              6\n",
       "IncGeo_WardCode                              6\n",
       "Lithium batteries mentioned in report?       0\n",
       "dtype: int64"
      ]
     },
     "execution_count": 21,
     "metadata": {},
     "output_type": "execute_result"
    }
   ],
   "source": [
    "df.isnull().sum()"
   ]
  },
  {
   "cell_type": "code",
   "execution_count": 27,
   "id": "33ff6600-cdea-4a8a-801a-8f5f69598c54",
   "metadata": {},
   "outputs": [
    {
     "data": {
      "text/plain": [
       "Index(['IncidentNumber', 'CalendarYear', 'MonthText', 'Type',\n",
       "       'IgnitionSourcePower', 'IgnitionSource', 'ItemFirstIgnited',\n",
       "       'VehiclePowerType', 'VehicleManufacturer', 'IncGeo_BoroughName',\n",
       "       'IncGeo_WardName', 'IncGeo_WardCode',\n",
       "       'Lithium batteries mentioned in report?'],\n",
       "      dtype='object')"
      ]
     },
     "execution_count": 27,
     "metadata": {},
     "output_type": "execute_result"
    }
   ],
   "source": [
    "df.columns"
   ]
  },
  {
   "cell_type": "code",
   "execution_count": 29,
   "id": "1dbf0a1c-ee58-4aeb-baa3-ddc7200f85b3",
   "metadata": {},
   "outputs": [],
   "source": [
    "df.drop(columns=[\n",
    "    'IncidentNumber',\n",
    "    'MonthText',\n",
    "    'IncGeo_BoroughName',\n",
    "    'IncGeo_WardName',\n",
    "    'IncGeo_WardCode'\n",
    "], inplace=True)"
   ]
  },
  {
   "cell_type": "code",
   "execution_count": 31,
   "id": "ceac7400-8163-4249-882d-c61972aa9a37",
   "metadata": {},
   "outputs": [
    {
     "data": {
      "text/plain": [
       "Index(['CalendarYear', 'Type', 'IgnitionSourcePower', 'IgnitionSource',\n",
       "       'ItemFirstIgnited', 'VehiclePowerType', 'VehicleManufacturer',\n",
       "       'Lithium batteries mentioned in report?'],\n",
       "      dtype='object')"
      ]
     },
     "execution_count": 31,
     "metadata": {},
     "output_type": "execute_result"
    }
   ],
   "source": [
    "df.columns"
   ]
  },
  {
   "cell_type": "code",
   "execution_count": 37,
   "id": "ee125eef-ff61-43a4-84f1-4478bc3e8a6a",
   "metadata": {},
   "outputs": [
    {
     "data": {
      "text/plain": [
       "CalendarYear                                 0\n",
       "Type                                         0\n",
       "IgnitionSourcePower                         12\n",
       "IgnitionSource                              12\n",
       "ItemFirstIgnited                            44\n",
       "VehiclePowerType                          1047\n",
       "VehicleManufacturer                        849\n",
       "Lithium batteries mentioned in report?       0\n",
       "dtype: int64"
      ]
     },
     "execution_count": 37,
     "metadata": {},
     "output_type": "execute_result"
    }
   ],
   "source": [
    "df.isnull().sum()"
   ]
  },
  {
   "cell_type": "code",
   "execution_count": 39,
   "id": "aa239e87-d2ca-4cfa-be54-c46d82dbb7f1",
   "metadata": {},
   "outputs": [],
   "source": [
    "df['IgnitionSourcePower'] = df['IgnitionSourcePower'].fillna('Unknown')\n",
    "df['IgnitionSource'] = df['IgnitionSource'].fillna('Unknown')\n",
    "df['ItemFirstIgnited'] = df['ItemFirstIgnited'].fillna('Unknown')\n",
    "df['VehiclePowerType'] = df['VehiclePowerType'].fillna('Unknown')\n",
    "df['VehicleManufacturer'] = df['VehicleManufacturer'].fillna('Unknown')\n"
   ]
  },
  {
   "cell_type": "code",
   "execution_count": 43,
   "id": "1beb1f75-40f7-47e8-93c2-86e8fda059f0",
   "metadata": {},
   "outputs": [],
   "source": [
    "df['Target'] = df['Lithium batteries mentioned in report?'].apply(lambda x: 1 if x == 'Yes' else 0)\n",
    "df.drop(columns=['Lithium batteries mentioned in report?'], inplace=True)"
   ]
  },
  {
   "cell_type": "code",
   "execution_count": 45,
   "id": "4dd1efa7-b3db-4916-a2b7-eb4554fecac0",
   "metadata": {},
   "outputs": [
    {
     "data": {
      "text/html": [
       "<div>\n",
       "<style scoped>\n",
       "    .dataframe tbody tr th:only-of-type {\n",
       "        vertical-align: middle;\n",
       "    }\n",
       "\n",
       "    .dataframe tbody tr th {\n",
       "        vertical-align: top;\n",
       "    }\n",
       "\n",
       "    .dataframe thead th {\n",
       "        text-align: right;\n",
       "    }\n",
       "</style>\n",
       "<table border=\"1\" class=\"dataframe\">\n",
       "  <thead>\n",
       "    <tr style=\"text-align: right;\">\n",
       "      <th></th>\n",
       "      <th>CalendarYear</th>\n",
       "      <th>Type</th>\n",
       "      <th>IgnitionSourcePower</th>\n",
       "      <th>IgnitionSource</th>\n",
       "      <th>ItemFirstIgnited</th>\n",
       "      <th>VehiclePowerType</th>\n",
       "      <th>VehicleManufacturer</th>\n",
       "      <th>Target</th>\n",
       "    </tr>\n",
       "  </thead>\n",
       "  <tbody>\n",
       "    <tr>\n",
       "      <th>0</th>\n",
       "      <td>2017</td>\n",
       "      <td>Other Lithium Battery</td>\n",
       "      <td>Electricity</td>\n",
       "      <td>Other appliance or equipment</td>\n",
       "      <td>Other item</td>\n",
       "      <td>Unknown</td>\n",
       "      <td>Unknown</td>\n",
       "      <td>1</td>\n",
       "    </tr>\n",
       "    <tr>\n",
       "      <th>1</th>\n",
       "      <td>2017</td>\n",
       "      <td>Other Lithium Battery</td>\n",
       "      <td>Unknown</td>\n",
       "      <td>Not known</td>\n",
       "      <td>Plastic - raw material only</td>\n",
       "      <td>Unknown</td>\n",
       "      <td>Unknown</td>\n",
       "      <td>1</td>\n",
       "    </tr>\n",
       "    <tr>\n",
       "      <th>2</th>\n",
       "      <td>2017</td>\n",
       "      <td>Car</td>\n",
       "      <td>Electricity</td>\n",
       "      <td>Batteries, generators</td>\n",
       "      <td>Rubber - raw material only</td>\n",
       "      <td>Unknown</td>\n",
       "      <td>Mercedes</td>\n",
       "      <td>0</td>\n",
       "    </tr>\n",
       "    <tr>\n",
       "      <th>3</th>\n",
       "      <td>2017</td>\n",
       "      <td>Car</td>\n",
       "      <td>Electricity</td>\n",
       "      <td>Batteries, generators</td>\n",
       "      <td>Plastic - raw material only</td>\n",
       "      <td>Unknown</td>\n",
       "      <td>Mercedes</td>\n",
       "      <td>0</td>\n",
       "    </tr>\n",
       "    <tr>\n",
       "      <th>4</th>\n",
       "      <td>2017</td>\n",
       "      <td>e-scooter</td>\n",
       "      <td>Electricity</td>\n",
       "      <td>Batteries, generators</td>\n",
       "      <td>Wiring insulation</td>\n",
       "      <td>Unknown</td>\n",
       "      <td>Unknown</td>\n",
       "      <td>0</td>\n",
       "    </tr>\n",
       "  </tbody>\n",
       "</table>\n",
       "</div>"
      ],
      "text/plain": [
       "   CalendarYear                   Type IgnitionSourcePower  \\\n",
       "0          2017  Other Lithium Battery         Electricity   \n",
       "1          2017  Other Lithium Battery             Unknown   \n",
       "2          2017                   Car          Electricity   \n",
       "3          2017                   Car          Electricity   \n",
       "4          2017              e-scooter         Electricity   \n",
       "\n",
       "                 IgnitionSource             ItemFirstIgnited VehiclePowerType  \\\n",
       "0  Other appliance or equipment                   Other item          Unknown   \n",
       "1                     Not known  Plastic - raw material only          Unknown   \n",
       "2         Batteries, generators   Rubber - raw material only          Unknown   \n",
       "3         Batteries, generators  Plastic - raw material only          Unknown   \n",
       "4         Batteries, generators            Wiring insulation          Unknown   \n",
       "\n",
       "  VehicleManufacturer  Target  \n",
       "0             Unknown       1  \n",
       "1             Unknown       1  \n",
       "2            Mercedes       0  \n",
       "3            Mercedes       0  \n",
       "4             Unknown       0  "
      ]
     },
     "execution_count": 45,
     "metadata": {},
     "output_type": "execute_result"
    }
   ],
   "source": [
    "df.head()"
   ]
  },
  {
   "cell_type": "code",
   "execution_count": 60,
   "id": "6d8ffcb9-e7e9-40a8-bb53-3e2431c9a7ce",
   "metadata": {},
   "outputs": [
    {
     "data": {
      "text/plain": [
       "CalendarYear           0\n",
       "Type                   0\n",
       "IgnitionSourcePower    0\n",
       "IgnitionSource         0\n",
       "ItemFirstIgnited       0\n",
       "VehiclePowerType       0\n",
       "VehicleManufacturer    0\n",
       "Target                 0\n",
       "dtype: int64"
      ]
     },
     "execution_count": 60,
     "metadata": {},
     "output_type": "execute_result"
    }
   ],
   "source": [
    "df.isnull().sum()"
   ]
  },
  {
   "cell_type": "code",
   "execution_count": 56,
   "id": "427a1212-5a71-4ed8-bfc6-51edd8b2d437",
   "metadata": {},
   "outputs": [],
   "source": [
    "from sklearn.preprocessing import LabelEncoder"
   ]
  },
  {
   "cell_type": "code",
   "execution_count": 57,
   "id": "b43a29e3-1951-4448-b60c-54532648450e",
   "metadata": {},
   "outputs": [],
   "source": [
    "label_encoders = {}\n",
    "for col in df.columns:\n",
    "    if df[col].dtype == 'object':\n",
    "        le = LabelEncoder()\n",
    "        df[col] = le.fit_transform(df[col])\n",
    "        label_encoders[col] = le\n"
   ]
  },
  {
   "cell_type": "code",
   "execution_count": 64,
   "id": "d14e04c4-9e84-40ae-8221-c219cff17643",
   "metadata": {},
   "outputs": [],
   "source": [
    "X = df.drop(columns=['Target'])\n",
    "y = df['Target']"
   ]
  },
  {
   "cell_type": "code",
   "execution_count": 66,
   "id": "baf69ef5-bd77-4e91-bb7f-ce31a01d0b6a",
   "metadata": {},
   "outputs": [],
   "source": [
    "from sklearn.model_selection import train_test_split"
   ]
  },
  {
   "cell_type": "code",
   "execution_count": 68,
   "id": "31c19640-926e-4ac5-b1f4-7387039c6d50",
   "metadata": {},
   "outputs": [],
   "source": [
    "X_train, X_test, y_train, y_test = train_test_split(X, y, test_size=0.2, random_state=42)"
   ]
  },
  {
   "cell_type": "code",
   "execution_count": 70,
   "id": "30fce7b8-d41a-4b3e-aa1a-577b5d545c76",
   "metadata": {},
   "outputs": [],
   "source": [
    "from sklearn.preprocessing import StandardScaler"
   ]
  },
  {
   "cell_type": "code",
   "execution_count": 72,
   "id": "0282ddd8-5d71-40ed-afd4-7f297ca22e4f",
   "metadata": {},
   "outputs": [],
   "source": [
    "scaler = StandardScaler()\n",
    "X_train = scaler.fit_transform(X_train)\n",
    "X_test = scaler.transform(X_test)"
   ]
  },
  {
   "cell_type": "code",
   "execution_count": 84,
   "id": "2492bd6e-6c6d-4655-b77e-238b1ee2c01a",
   "metadata": {},
   "outputs": [],
   "source": [
    "from tensorflow.keras.models import Sequential\n",
    "from sklearn.metrics import accuracy_score, confusion_matrix, classification_report\n",
    "\n",
    "from tensorflow.keras.layers import Dense, Dropout"
   ]
  },
  {
   "cell_type": "code",
   "execution_count": 86,
   "id": "6a1f17f1-1d55-4fbc-8863-77430f7b6635",
   "metadata": {},
   "outputs": [
    {
     "name": "stderr",
     "output_type": "stream",
     "text": [
      "D:\\anaconda\\Lib\\site-packages\\keras\\src\\layers\\core\\dense.py:87: UserWarning: Do not pass an `input_shape`/`input_dim` argument to a layer. When using Sequential models, prefer using an `Input(shape)` object as the first layer in the model instead.\n",
      "  super().__init__(activity_regularizer=activity_regularizer, **kwargs)\n"
     ]
    }
   ],
   "source": [
    "model = Sequential([\n",
    "    Dense(64, activation='relu', input_shape=(X_train.shape[1],)),\n",
    "    Dropout(0.3),\n",
    "    Dense(32, activation='relu'),\n",
    "    Dropout(0.2),\n",
    "    Dense(1, activation='sigmoid')\n",
    "])"
   ]
  },
  {
   "cell_type": "code",
   "execution_count": 88,
   "id": "479afe82-79db-45d4-ab61-a2aa7c61db31",
   "metadata": {},
   "outputs": [],
   "source": [
    "model.compile(optimizer='adam', loss='binary_crossentropy', metrics=['accuracy'])"
   ]
  },
  {
   "cell_type": "code",
   "execution_count": 90,
   "id": "8a4241bb-703a-40ac-8d45-e65f9164b136",
   "metadata": {},
   "outputs": [
    {
     "name": "stdout",
     "output_type": "stream",
     "text": [
      "Epoch 1/50\n",
      "\u001b[1m63/63\u001b[0m \u001b[32m━━━━━━━━━━━━━━━━━━━━\u001b[0m\u001b[37m\u001b[0m \u001b[1m5s\u001b[0m 8ms/step - accuracy: 0.5759 - loss: 0.6540 - val_accuracy: 0.6667 - val_loss: 0.5672\n",
      "Epoch 2/50\n",
      "\u001b[1m63/63\u001b[0m \u001b[32m━━━━━━━━━━━━━━━━━━━━\u001b[0m\u001b[37m\u001b[0m \u001b[1m0s\u001b[0m 3ms/step - accuracy: 0.7585 - loss: 0.4964 - val_accuracy: 0.7143 - val_loss: 0.5478\n",
      "Epoch 3/50\n",
      "\u001b[1m63/63\u001b[0m \u001b[32m━━━━━━━━━━━━━━━━━━━━\u001b[0m\u001b[37m\u001b[0m \u001b[1m0s\u001b[0m 3ms/step - accuracy: 0.7671 - loss: 0.4895 - val_accuracy: 0.7381 - val_loss: 0.5354\n",
      "Epoch 4/50\n",
      "\u001b[1m63/63\u001b[0m \u001b[32m━━━━━━━━━━━━━━━━━━━━\u001b[0m\u001b[37m\u001b[0m \u001b[1m0s\u001b[0m 4ms/step - accuracy: 0.7792 - loss: 0.4753 - val_accuracy: 0.7421 - val_loss: 0.5244\n",
      "Epoch 5/50\n",
      "\u001b[1m63/63\u001b[0m \u001b[32m━━━━━━━━━━━━━━━━━━━━\u001b[0m\u001b[37m\u001b[0m \u001b[1m0s\u001b[0m 3ms/step - accuracy: 0.7935 - loss: 0.4480 - val_accuracy: 0.7540 - val_loss: 0.5153\n",
      "Epoch 6/50\n",
      "\u001b[1m63/63\u001b[0m \u001b[32m━━━━━━━━━━━━━━━━━━━━\u001b[0m\u001b[37m\u001b[0m \u001b[1m0s\u001b[0m 3ms/step - accuracy: 0.8119 - loss: 0.4319 - val_accuracy: 0.7619 - val_loss: 0.5046\n",
      "Epoch 7/50\n",
      "\u001b[1m63/63\u001b[0m \u001b[32m━━━━━━━━━━━━━━━━━━━━\u001b[0m\u001b[37m\u001b[0m \u001b[1m0s\u001b[0m 3ms/step - accuracy: 0.7982 - loss: 0.4152 - val_accuracy: 0.7540 - val_loss: 0.4894\n",
      "Epoch 8/50\n",
      "\u001b[1m63/63\u001b[0m \u001b[32m━━━━━━━━━━━━━━━━━━━━\u001b[0m\u001b[37m\u001b[0m \u001b[1m0s\u001b[0m 3ms/step - accuracy: 0.7987 - loss: 0.4094 - val_accuracy: 0.7540 - val_loss: 0.4773\n",
      "Epoch 9/50\n",
      "\u001b[1m63/63\u001b[0m \u001b[32m━━━━━━━━━━━━━━━━━━━━\u001b[0m\u001b[37m\u001b[0m \u001b[1m0s\u001b[0m 3ms/step - accuracy: 0.8313 - loss: 0.3887 - val_accuracy: 0.7500 - val_loss: 0.4663\n",
      "Epoch 10/50\n",
      "\u001b[1m63/63\u001b[0m \u001b[32m━━━━━━━━━━━━━━━━━━━━\u001b[0m\u001b[37m\u001b[0m \u001b[1m0s\u001b[0m 3ms/step - accuracy: 0.8390 - loss: 0.3683 - val_accuracy: 0.7619 - val_loss: 0.4572\n",
      "Epoch 11/50\n",
      "\u001b[1m63/63\u001b[0m \u001b[32m━━━━━━━━━━━━━━━━━━━━\u001b[0m\u001b[37m\u001b[0m \u001b[1m0s\u001b[0m 3ms/step - accuracy: 0.8424 - loss: 0.3740 - val_accuracy: 0.7659 - val_loss: 0.4520\n",
      "Epoch 12/50\n",
      "\u001b[1m63/63\u001b[0m \u001b[32m━━━━━━━━━━━━━━━━━━━━\u001b[0m\u001b[37m\u001b[0m \u001b[1m0s\u001b[0m 4ms/step - accuracy: 0.8352 - loss: 0.3822 - val_accuracy: 0.7698 - val_loss: 0.4449\n",
      "Epoch 13/50\n",
      "\u001b[1m63/63\u001b[0m \u001b[32m━━━━━━━━━━━━━━━━━━━━\u001b[0m\u001b[37m\u001b[0m \u001b[1m0s\u001b[0m 4ms/step - accuracy: 0.8410 - loss: 0.3596 - val_accuracy: 0.7659 - val_loss: 0.4407\n",
      "Epoch 14/50\n",
      "\u001b[1m63/63\u001b[0m \u001b[32m━━━━━━━━━━━━━━━━━━━━\u001b[0m\u001b[37m\u001b[0m \u001b[1m0s\u001b[0m 3ms/step - accuracy: 0.8158 - loss: 0.3583 - val_accuracy: 0.7738 - val_loss: 0.4318\n",
      "Epoch 15/50\n",
      "\u001b[1m63/63\u001b[0m \u001b[32m━━━━━━━━━━━━━━━━━━━━\u001b[0m\u001b[37m\u001b[0m \u001b[1m0s\u001b[0m 3ms/step - accuracy: 0.8623 - loss: 0.3260 - val_accuracy: 0.7778 - val_loss: 0.4253\n",
      "Epoch 16/50\n",
      "\u001b[1m63/63\u001b[0m \u001b[32m━━━━━━━━━━━━━━━━━━━━\u001b[0m\u001b[37m\u001b[0m \u001b[1m0s\u001b[0m 4ms/step - accuracy: 0.8447 - loss: 0.3447 - val_accuracy: 0.7778 - val_loss: 0.4198\n",
      "Epoch 17/50\n",
      "\u001b[1m63/63\u001b[0m \u001b[32m━━━━━━━━━━━━━━━━━━━━\u001b[0m\u001b[37m\u001b[0m \u001b[1m0s\u001b[0m 3ms/step - accuracy: 0.8434 - loss: 0.3371 - val_accuracy: 0.7817 - val_loss: 0.4161\n",
      "Epoch 18/50\n",
      "\u001b[1m63/63\u001b[0m \u001b[32m━━━━━━━━━━━━━━━━━━━━\u001b[0m\u001b[37m\u001b[0m \u001b[1m0s\u001b[0m 3ms/step - accuracy: 0.8588 - loss: 0.3090 - val_accuracy: 0.7778 - val_loss: 0.4175\n",
      "Epoch 19/50\n",
      "\u001b[1m63/63\u001b[0m \u001b[32m━━━━━━━━━━━━━━━━━━━━\u001b[0m\u001b[37m\u001b[0m \u001b[1m0s\u001b[0m 3ms/step - accuracy: 0.8359 - loss: 0.3532 - val_accuracy: 0.7778 - val_loss: 0.4089\n",
      "Epoch 20/50\n",
      "\u001b[1m63/63\u001b[0m \u001b[32m━━━━━━━━━━━━━━━━━━━━\u001b[0m\u001b[37m\u001b[0m \u001b[1m0s\u001b[0m 3ms/step - accuracy: 0.8607 - loss: 0.3322 - val_accuracy: 0.7817 - val_loss: 0.4139\n",
      "Epoch 21/50\n",
      "\u001b[1m63/63\u001b[0m \u001b[32m━━━━━━━━━━━━━━━━━━━━\u001b[0m\u001b[37m\u001b[0m \u001b[1m0s\u001b[0m 4ms/step - accuracy: 0.8341 - loss: 0.3224 - val_accuracy: 0.7778 - val_loss: 0.4099\n",
      "Epoch 22/50\n",
      "\u001b[1m63/63\u001b[0m \u001b[32m━━━━━━━━━━━━━━━━━━━━\u001b[0m\u001b[37m\u001b[0m \u001b[1m0s\u001b[0m 3ms/step - accuracy: 0.8673 - loss: 0.3073 - val_accuracy: 0.7897 - val_loss: 0.4081\n",
      "Epoch 23/50\n",
      "\u001b[1m63/63\u001b[0m \u001b[32m━━━━━━━━━━━━━━━━━━━━\u001b[0m\u001b[37m\u001b[0m \u001b[1m0s\u001b[0m 3ms/step - accuracy: 0.8578 - loss: 0.3069 - val_accuracy: 0.7778 - val_loss: 0.4002\n",
      "Epoch 24/50\n",
      "\u001b[1m63/63\u001b[0m \u001b[32m━━━━━━━━━━━━━━━━━━━━\u001b[0m\u001b[37m\u001b[0m \u001b[1m0s\u001b[0m 3ms/step - accuracy: 0.8383 - loss: 0.3310 - val_accuracy: 0.7817 - val_loss: 0.3964\n",
      "Epoch 25/50\n",
      "\u001b[1m63/63\u001b[0m \u001b[32m━━━━━━━━━━━━━━━━━━━━\u001b[0m\u001b[37m\u001b[0m \u001b[1m0s\u001b[0m 3ms/step - accuracy: 0.8544 - loss: 0.3178 - val_accuracy: 0.7778 - val_loss: 0.3976\n",
      "Epoch 26/50\n",
      "\u001b[1m63/63\u001b[0m \u001b[32m━━━━━━━━━━━━━━━━━━━━\u001b[0m\u001b[37m\u001b[0m \u001b[1m0s\u001b[0m 3ms/step - accuracy: 0.8795 - loss: 0.2784 - val_accuracy: 0.7817 - val_loss: 0.3960\n",
      "Epoch 27/50\n",
      "\u001b[1m63/63\u001b[0m \u001b[32m━━━━━━━━━━━━━━━━━━━━\u001b[0m\u001b[37m\u001b[0m \u001b[1m0s\u001b[0m 3ms/step - accuracy: 0.8478 - loss: 0.3260 - val_accuracy: 0.7817 - val_loss: 0.3907\n",
      "Epoch 28/50\n",
      "\u001b[1m63/63\u001b[0m \u001b[32m━━━━━━━━━━━━━━━━━━━━\u001b[0m\u001b[37m\u001b[0m \u001b[1m0s\u001b[0m 4ms/step - accuracy: 0.8632 - loss: 0.3109 - val_accuracy: 0.7817 - val_loss: 0.3937\n",
      "Epoch 29/50\n",
      "\u001b[1m63/63\u001b[0m \u001b[32m━━━━━━━━━━━━━━━━━━━━\u001b[0m\u001b[37m\u001b[0m \u001b[1m0s\u001b[0m 3ms/step - accuracy: 0.8497 - loss: 0.3123 - val_accuracy: 0.7738 - val_loss: 0.3968\n",
      "Epoch 30/50\n",
      "\u001b[1m63/63\u001b[0m \u001b[32m━━━━━━━━━━━━━━━━━━━━\u001b[0m\u001b[37m\u001b[0m \u001b[1m0s\u001b[0m 3ms/step - accuracy: 0.8594 - loss: 0.3217 - val_accuracy: 0.7817 - val_loss: 0.3989\n",
      "Epoch 31/50\n",
      "\u001b[1m63/63\u001b[0m \u001b[32m━━━━━━━━━━━━━━━━━━━━\u001b[0m\u001b[37m\u001b[0m \u001b[1m0s\u001b[0m 3ms/step - accuracy: 0.8663 - loss: 0.3020 - val_accuracy: 0.7778 - val_loss: 0.3914\n",
      "Epoch 32/50\n",
      "\u001b[1m63/63\u001b[0m \u001b[32m━━━━━━━━━━━━━━━━━━━━\u001b[0m\u001b[37m\u001b[0m \u001b[1m0s\u001b[0m 3ms/step - accuracy: 0.8444 - loss: 0.3111 - val_accuracy: 0.7778 - val_loss: 0.3909\n",
      "Epoch 33/50\n",
      "\u001b[1m63/63\u001b[0m \u001b[32m━━━━━━━━━━━━━━━━━━━━\u001b[0m\u001b[37m\u001b[0m \u001b[1m0s\u001b[0m 3ms/step - accuracy: 0.8551 - loss: 0.3219 - val_accuracy: 0.7857 - val_loss: 0.3855\n",
      "Epoch 34/50\n",
      "\u001b[1m63/63\u001b[0m \u001b[32m━━━━━━━━━━━━━━━━━━━━\u001b[0m\u001b[37m\u001b[0m \u001b[1m0s\u001b[0m 4ms/step - accuracy: 0.8580 - loss: 0.2879 - val_accuracy: 0.7778 - val_loss: 0.3871\n",
      "Epoch 35/50\n",
      "\u001b[1m63/63\u001b[0m \u001b[32m━━━━━━━━━━━━━━━━━━━━\u001b[0m\u001b[37m\u001b[0m \u001b[1m0s\u001b[0m 3ms/step - accuracy: 0.8665 - loss: 0.2910 - val_accuracy: 0.7857 - val_loss: 0.3894\n",
      "Epoch 36/50\n",
      "\u001b[1m63/63\u001b[0m \u001b[32m━━━━━━━━━━━━━━━━━━━━\u001b[0m\u001b[37m\u001b[0m \u001b[1m0s\u001b[0m 3ms/step - accuracy: 0.8502 - loss: 0.2917 - val_accuracy: 0.7817 - val_loss: 0.3878\n",
      "Epoch 37/50\n",
      "\u001b[1m63/63\u001b[0m \u001b[32m━━━━━━━━━━━━━━━━━━━━\u001b[0m\u001b[37m\u001b[0m \u001b[1m0s\u001b[0m 3ms/step - accuracy: 0.8526 - loss: 0.3108 - val_accuracy: 0.7778 - val_loss: 0.3963\n",
      "Epoch 38/50\n",
      "\u001b[1m63/63\u001b[0m \u001b[32m━━━━━━━━━━━━━━━━━━━━\u001b[0m\u001b[37m\u001b[0m \u001b[1m0s\u001b[0m 3ms/step - accuracy: 0.8617 - loss: 0.2905 - val_accuracy: 0.7857 - val_loss: 0.3985\n",
      "Epoch 39/50\n",
      "\u001b[1m63/63\u001b[0m \u001b[32m━━━━━━━━━━━━━━━━━━━━\u001b[0m\u001b[37m\u001b[0m \u001b[1m0s\u001b[0m 4ms/step - accuracy: 0.8493 - loss: 0.3046 - val_accuracy: 0.7778 - val_loss: 0.3889\n",
      "Epoch 40/50\n",
      "\u001b[1m63/63\u001b[0m \u001b[32m━━━━━━━━━━━━━━━━━━━━\u001b[0m\u001b[37m\u001b[0m \u001b[1m0s\u001b[0m 4ms/step - accuracy: 0.8578 - loss: 0.3105 - val_accuracy: 0.7817 - val_loss: 0.3922\n",
      "Epoch 41/50\n",
      "\u001b[1m63/63\u001b[0m \u001b[32m━━━━━━━━━━━━━━━━━━━━\u001b[0m\u001b[37m\u001b[0m \u001b[1m0s\u001b[0m 4ms/step - accuracy: 0.8626 - loss: 0.2935 - val_accuracy: 0.7817 - val_loss: 0.3926\n",
      "Epoch 42/50\n",
      "\u001b[1m63/63\u001b[0m \u001b[32m━━━━━━━━━━━━━━━━━━━━\u001b[0m\u001b[37m\u001b[0m \u001b[1m0s\u001b[0m 4ms/step - accuracy: 0.8642 - loss: 0.3224 - val_accuracy: 0.7778 - val_loss: 0.3911\n",
      "Epoch 43/50\n",
      "\u001b[1m63/63\u001b[0m \u001b[32m━━━━━━━━━━━━━━━━━━━━\u001b[0m\u001b[37m\u001b[0m \u001b[1m0s\u001b[0m 3ms/step - accuracy: 0.8652 - loss: 0.2907 - val_accuracy: 0.7738 - val_loss: 0.3917\n",
      "Epoch 44/50\n",
      "\u001b[1m63/63\u001b[0m \u001b[32m━━━━━━━━━━━━━━━━━━━━\u001b[0m\u001b[37m\u001b[0m \u001b[1m0s\u001b[0m 3ms/step - accuracy: 0.8318 - loss: 0.3415 - val_accuracy: 0.7738 - val_loss: 0.3912\n",
      "Epoch 45/50\n",
      "\u001b[1m63/63\u001b[0m \u001b[32m━━━━━━━━━━━━━━━━━━━━\u001b[0m\u001b[37m\u001b[0m \u001b[1m0s\u001b[0m 3ms/step - accuracy: 0.8599 - loss: 0.3054 - val_accuracy: 0.7817 - val_loss: 0.3907\n",
      "Epoch 46/50\n",
      "\u001b[1m63/63\u001b[0m \u001b[32m━━━━━━━━━━━━━━━━━━━━\u001b[0m\u001b[37m\u001b[0m \u001b[1m0s\u001b[0m 3ms/step - accuracy: 0.8822 - loss: 0.2662 - val_accuracy: 0.7857 - val_loss: 0.3864\n",
      "Epoch 47/50\n",
      "\u001b[1m63/63\u001b[0m \u001b[32m━━━━━━━━━━━━━━━━━━━━\u001b[0m\u001b[37m\u001b[0m \u001b[1m0s\u001b[0m 3ms/step - accuracy: 0.8501 - loss: 0.3012 - val_accuracy: 0.7857 - val_loss: 0.3860\n",
      "Epoch 48/50\n",
      "\u001b[1m63/63\u001b[0m \u001b[32m━━━━━━━━━━━━━━━━━━━━\u001b[0m\u001b[37m\u001b[0m \u001b[1m0s\u001b[0m 4ms/step - accuracy: 0.8802 - loss: 0.2873 - val_accuracy: 0.7738 - val_loss: 0.3851\n",
      "Epoch 49/50\n",
      "\u001b[1m63/63\u001b[0m \u001b[32m━━━━━━━━━━━━━━━━━━━━\u001b[0m\u001b[37m\u001b[0m \u001b[1m0s\u001b[0m 4ms/step - accuracy: 0.8821 - loss: 0.2896 - val_accuracy: 0.7857 - val_loss: 0.3827\n",
      "Epoch 50/50\n",
      "\u001b[1m63/63\u001b[0m \u001b[32m━━━━━━━━━━━━━━━━━━━━\u001b[0m\u001b[37m\u001b[0m \u001b[1m0s\u001b[0m 4ms/step - accuracy: 0.8788 - loss: 0.2975 - val_accuracy: 0.7698 - val_loss: 0.3850\n"
     ]
    }
   ],
   "source": [
    "history = model.fit(\n",
    "    X_train, y_train,\n",
    "    epochs=50,\n",
    "    batch_size=16,\n",
    "    validation_split=0.2\n",
    ")"
   ]
  },
  {
   "cell_type": "code",
   "execution_count": 92,
   "id": "439d895a-3450-43c8-8377-4236ded14fb9",
   "metadata": {},
   "outputs": [],
   "source": [
    "import matplotlib.pyplot as plt\n",
    "import seaborn as sns"
   ]
  },
  {
   "cell_type": "code",
   "execution_count": 104,
   "id": "44dfb5bb-c765-4d82-a974-5ff08e3e8174",
   "metadata": {},
   "outputs": [
    {
     "name": "stdout",
     "output_type": "stream",
     "text": [
      "\u001b[1m10/10\u001b[0m \u001b[32m━━━━━━━━━━━━━━━━━━━━\u001b[0m\u001b[37m\u001b[0m \u001b[1m0s\u001b[0m 6ms/step \n"
     ]
    }
   ],
   "source": [
    "y_pred = (model.predict(X_test) > 0.5).astype(\"int32\")"
   ]
  },
  {
   "cell_type": "code",
   "execution_count": 106,
   "id": "1a7c8077-51e6-465c-9e6b-91587b79314f",
   "metadata": {},
   "outputs": [
    {
     "name": "stdout",
     "output_type": "stream",
     "text": [
      "\n",
      "📊 Accuracy: 0.8476190476190476\n"
     ]
    }
   ],
   "source": [
    "print(\"\\n📊 Accuracy:\", accuracy_score(y_test, y_pred))"
   ]
  },
  {
   "cell_type": "code",
   "execution_count": 108,
   "id": "1bd00e18-5c62-41af-8460-c8a2b6786431",
   "metadata": {},
   "outputs": [
    {
     "name": "stdout",
     "output_type": "stream",
     "text": [
      "\n",
      "📋 Classification Report:\n",
      "               precision    recall  f1-score   support\n",
      "\n",
      "           0       0.87      0.88      0.87       186\n",
      "           1       0.82      0.81      0.81       129\n",
      "\n",
      "    accuracy                           0.85       315\n",
      "   macro avg       0.84      0.84      0.84       315\n",
      "weighted avg       0.85      0.85      0.85       315\n",
      "\n"
     ]
    }
   ],
   "source": [
    "print(\"\\n📋 Classification Report:\\n\", classification_report(y_test, y_pred))"
   ]
  },
  {
   "cell_type": "code",
   "execution_count": 96,
   "id": "bd76bc18-ea1a-4e44-8b0c-b7d7cada4eec",
   "metadata": {},
   "outputs": [
    {
     "data": {
      "image/png": "[encoded data removed]",
      "text/plain": [
       "<Figure size 640x480 with 2 Axes>"
      ]
     },
     "metadata": {},
     "output_type": "display_data"
    }
   ],
   "source": [
    "# Confusion Matrix\n",
    "cm = confusion_matrix(y_test, y_pred)\n",
    "sns.heatmap(cm, annot=True, fmt='d', cmap='Blues', xticklabels=[\"No\", \"Yes\"], yticklabels=[\"No\", \"Yes\"])\n",
    "plt.xlabel(\"Predicted\")\n",
    "plt.ylabel(\"Actual\")\n",
    "plt.title(\"Confusion Matrix\")\n",
    "plt.show()"
   ]
  },
  {
   "cell_type": "code",
   "execution_count": 110,
   "id": "be3620fc-bf06-4ecc-95e9-28e15d435a94",
   "metadata": {},
   "outputs": [
    {
     "data": {
      "text/plain": [
       "<matplotlib.legend.Legend at 0x20199ccd6d0>"
      ]
     },
     "execution_count": 110,
     "metadata": {},
     "output_type": "execute_result"
    },
    {
     "data": {
      "image/png": "[encoded data removed]",
      "text/plain": [
       "<Figure size 1200x400 with 1 Axes>"
      ]
     },
     "metadata": {},
     "output_type": "display_data"
    }
   ],
   "source": [
    "plt.figure(figsize=(12, 4))\n",
    "\n",
    "# Accuracy Plot\n",
    "plt.subplot(1, 2, 1)\n",
    "plt.plot(history.history['accuracy'], label='Train Accuracy')\n",
    "plt.plot(history.history['val_accuracy'], label='Val Accuracy')\n",
    "plt.title(\"Model Accuracy\")\n",
    "plt.xlabel(\"Epoch\")\n",
    "plt.ylabel(\"Accuracy\")\n",
    "plt.legend()"
   ]
  },
  {
   "cell_type": "code",
   "execution_count": 112,
   "id": "0621a4ba-9b74-4d5c-b740-f9df27f71e15",
   "metadata": {},
   "outputs": [
    {
     "data": {
      "image/png": "[encoded data removed]",
      "text/plain": [
       "<Figure size 640x480 with 1 Axes>"
      ]
     },
     "metadata": {},
     "output_type": "display_data"
    }
   ],
   "source": [
    "# Loss Plot\n",
    "plt.subplot(1, 2, 2)\n",
    "plt.plot(history.history['loss'], label='Train Loss')\n",
    "plt.plot(history.history['val_loss'], label='Val Loss')\n",
    "plt.title(\"Model Loss\")\n",
    "plt.xlabel(\"Epoch\")\n",
    "plt.ylabel(\"Loss\")\n",
    "plt.legend()\n",
    "\n",
    "plt.tight_layout()\n",
    "plt.show()\n"
   ]
  },
  {
   "cell_type": "code",
   "execution_count": null,
   "id": "decd8814-a3d0-40b1-bbb0-2bfa95f87cf2",
   "metadata": {},
   "outputs": [],
   "source": []
  }
 ],
 "metadata": {
  "kernelspec": {
   "display_name": "Python 3 (ipykernel)",
   "language": "python",
   "name": "python3"
  },
  "language_info": {
   "codemirror_mode": {
    "name": "ipython",
    "version": 3
   },
   "file_extension": ".py",
   "mimetype": "text/x-python",
   "name": "python",
   "nbconvert_exporter": "python",
   "pygments_lexer": "ipython3",
   "version": "3.12.7"
  }
 },
 "nbformat": 4,
 "nbformat_minor": 5
}
